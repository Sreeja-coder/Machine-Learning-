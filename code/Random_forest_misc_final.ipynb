{
 "cells": [
  {
   "cell_type": "code",
   "execution_count": 5,
   "metadata": {},
   "outputs": [],
   "source": [
    "import pandas as pd\n",
    "from word2number import w2n\n",
    "from nltk.corpus import stopwords\n",
    "from nltk.corpus import wordnet\n",
    "import numpy as np\n",
    "from sklearn.model_selection import train_test_split\n",
    "from sklearn.preprocessing import StandardScaler\n",
    "from sklearn.ensemble import RandomForestClassifier\n",
    "from sklearn.metrics import classification_report, confusion_matrix, accuracy_score"
   ]
  },
  {
   "cell_type": "code",
   "execution_count": 6,
   "metadata": {},
   "outputs": [],
   "source": [
    "def read_split_data(filename):\n",
    "    file = open(filename, \"r\").read()\n",
    "    list_rows = []\n",
    "    file = file.split(\"\\n\")\n",
    "    for row in range(0, len(file) - 1):\n",
    "        dict_rows = {}\n",
    "        splits = file[row].split(\" \")\n",
    "        for s in range(len(splits)):\n",
    "            if s == 0:\n",
    "                if int(splits[s]) == 1:\n",
    "                    dict_rows[s] =  int(splits[0])\n",
    "                else:\n",
    "                    dict_rows[s] = -1\n",
    "            else:\n",
    "                index,val = [float(e) for e in splits[s].split(':')]\n",
    "                dict_rows[index] = val\n",
    "        list_rows.append(dict_rows)\n",
    "    df =  pd.DataFrame.from_dict(list_rows)\n",
    "    df = df.fillna(0)\n",
    "    return df"
   ]
  },
  {
   "cell_type": "code",
   "execution_count": 7,
   "metadata": {},
   "outputs": [],
   "source": [
    "df_glove_train = read_split_data('glove.train.libsvm')\n",
    "df_glove_test = read_split_data('glove.test.libsvm')"
   ]
  },
  {
   "cell_type": "code",
   "execution_count": 8,
   "metadata": {},
   "outputs": [],
   "source": [
    "dataset =  pd.read_csv('misc-attributes-train.csv')\n",
    "eval =  pd.read_csv('misc-attributes-eval.csv')\n",
    "test = pd.read_csv('misc-attributes-test.csv')"
   ]
  },
  {
   "cell_type": "code",
   "execution_count": 9,
   "metadata": {},
   "outputs": [],
   "source": [
    "defendants_age = []\n",
    "defendant_gender=[]\n",
    "num_victims=[]\n",
    "offence_category=[]\n",
    "offence_subcategory=[]"
   ]
  },
  {
   "cell_type": "code",
   "execution_count": 10,
   "metadata": {},
   "outputs": [],
   "source": [
    "def change_age(x):\n",
    "    \n",
    "    for i,age in enumerate(x['defendant_age']):\n",
    "#         print(\"age\",age)\n",
    "        # print(i)\n",
    "        age = age.strip(\"(  ) -\")\n",
    "        if age != \"not known\":\n",
    "            age = age.replace(\"years\",\"\")\n",
    "            age = age.replace(\"about\", \"\")\n",
    "            age = age.replace(\"age\",\"\")\n",
    "            age = age.replace(\"of\", \"\" )\n",
    "            age = age.replace(\"old\", \"\")\n",
    "            age = age.strip()\n",
    "            if age.find(\" \") >= 0:\n",
    "                temp = age.split(\" \")\n",
    "                # print(temp)\n",
    "                age = '-'.join(temp)\n",
    "            syns = wordnet.synsets(age.strip())\n",
    "            # print(\"A\",age)\n",
    "            # print(\"S\",syns[0].lemmas()[0].name())\n",
    "            age = syns[0].lemmas()[0].name()\n",
    "            if age.find(\"-\") >= 0:\n",
    "                temp = age.split(\"-\")\n",
    "                # print(temp)\n",
    "                age = ' '.join(temp)\n",
    "            # print(age.strip())\n",
    "            defendants_age.append(w2n.word_to_num(age.strip()))\n",
    "        else:\n",
    "            defendants_age.append(int(0))"
   ]
  },
  {
   "cell_type": "code",
   "execution_count": 11,
   "metadata": {},
   "outputs": [],
   "source": [
    "change_age(dataset)"
   ]
  },
  {
   "cell_type": "code",
   "execution_count": 12,
   "metadata": {},
   "outputs": [],
   "source": [
    "gender = ['female', 'indeterminate', 'male']\n",
    "off_cat = ['breakingPeace','damage','deception','kill','miscellaneous','royalOffences','sexual','theft','violentTheft']\n",
    "off_sub_cat = ['animalTheft','arson','assault','assaultWithIntent','assaultWithSodomiticalIntent','bankrupcy','bigamy','burglary','coiningOffences',\n",
    " 'concealingABirth', 'conspiracy', 'embezzlement','extortion','forgery','fraud','gameLawOffence','grandLarceny','highwayRobbery',\n",
    " 'housebreaking','illegalAbortion','indecentAssault','infanticide','keepingABrothel','kidnapping','libel','mail','manslaughter',\n",
    " 'murder','other','perjury','pervertingJustice','pettyLarceny','pettyTreason','piracy','pocketpicking','rape','receiving',\n",
    " 'religiousOffences','returnFromTransportation','riot','robbery','seditiousLibel','seditiousWords','seducingAllegiance',\n",
    " 'shoplifting','simpleLarceny','sodomy','stealingFromMaster','taxOffences','theftFromPlace','threateningBehaviour','treason',\n",
    " 'wounding','coiningOffences','vagabond']"
   ]
  },
  {
   "cell_type": "code",
   "execution_count": 13,
   "metadata": {},
   "outputs": [],
   "source": [
    "def factorize_gender(x):\n",
    "    for i,g in enumerate(x['defendant_gender']):\n",
    "        if g in gender:\n",
    "            defendant_gender.append(gender.index(g))\n",
    "#     return defendant_gender\n",
    "            "
   ]
  },
  {
   "cell_type": "code",
   "execution_count": 14,
   "metadata": {},
   "outputs": [],
   "source": [
    "def factorize_offence_category(x):\n",
    "    for i,off in enumerate(x['offence_category']):\n",
    "        if off in off_cat:\n",
    "            offence_category.append(off_cat.index(off))\n",
    "#     return offence_category\n",
    "\n",
    "            \n",
    "    "
   ]
  },
  {
   "cell_type": "code",
   "execution_count": 15,
   "metadata": {},
   "outputs": [],
   "source": [
    "def factorize_offence_subcategory(x):\n",
    "    for i,off_sub in enumerate(x['offence_subcategory']):\n",
    "        if off_sub in off_sub_cat:\n",
    "            offence_subcategory.append(off_sub_cat.index(off_sub))\n",
    "#     return offence_subcategory\n",
    "            "
   ]
  },
  {
   "cell_type": "code",
   "execution_count": 16,
   "metadata": {},
   "outputs": [],
   "source": [
    "num_victims = list(dataset['num_victims'])"
   ]
  },
  {
   "cell_type": "code",
   "execution_count": 17,
   "metadata": {},
   "outputs": [],
   "source": [
    "factorize_gender(dataset)\n",
    "factorize_offence_category(dataset)\n",
    "factorize_offence_subcategory(dataset)"
   ]
  },
  {
   "cell_type": "code",
   "execution_count": 18,
   "metadata": {},
   "outputs": [],
   "source": [
    "df = pd.DataFrame(list(zip(defendants_age,defendant_gender,num_victims,offence_category,offence_subcategory)),  columns =[\"defendants_age\" ,\"defendants_gender\",\"num_victims\",\"offence_category\",\"offence_sub_category\"])\n"
   ]
  },
  {
   "cell_type": "code",
   "execution_count": 19,
   "metadata": {},
   "outputs": [
    {
     "data": {
      "text/html": [
       "<div>\n",
       "<style scoped>\n",
       "    .dataframe tbody tr th:only-of-type {\n",
       "        vertical-align: middle;\n",
       "    }\n",
       "\n",
       "    .dataframe tbody tr th {\n",
       "        vertical-align: top;\n",
       "    }\n",
       "\n",
       "    .dataframe thead th {\n",
       "        text-align: right;\n",
       "    }\n",
       "</style>\n",
       "<table border=\"1\" class=\"dataframe\">\n",
       "  <thead>\n",
       "    <tr style=\"text-align: right;\">\n",
       "      <th></th>\n",
       "      <th>defendants_age</th>\n",
       "      <th>defendants_gender</th>\n",
       "      <th>num_victims</th>\n",
       "      <th>offence_category</th>\n",
       "      <th>offence_sub_category</th>\n",
       "    </tr>\n",
       "  </thead>\n",
       "  <tbody>\n",
       "    <tr>\n",
       "      <th>0</th>\n",
       "      <td>62</td>\n",
       "      <td>0</td>\n",
       "      <td>1</td>\n",
       "      <td>7</td>\n",
       "      <td>49</td>\n",
       "    </tr>\n",
       "    <tr>\n",
       "      <th>1</th>\n",
       "      <td>17</td>\n",
       "      <td>2</td>\n",
       "      <td>1</td>\n",
       "      <td>7</td>\n",
       "      <td>34</td>\n",
       "    </tr>\n",
       "    <tr>\n",
       "      <th>2</th>\n",
       "      <td>0</td>\n",
       "      <td>2</td>\n",
       "      <td>1</td>\n",
       "      <td>7</td>\n",
       "      <td>34</td>\n",
       "    </tr>\n",
       "    <tr>\n",
       "      <th>3</th>\n",
       "      <td>0</td>\n",
       "      <td>2</td>\n",
       "      <td>1</td>\n",
       "      <td>7</td>\n",
       "      <td>45</td>\n",
       "    </tr>\n",
       "    <tr>\n",
       "      <th>4</th>\n",
       "      <td>52</td>\n",
       "      <td>2</td>\n",
       "      <td>1</td>\n",
       "      <td>7</td>\n",
       "      <td>34</td>\n",
       "    </tr>\n",
       "    <tr>\n",
       "      <th>...</th>\n",
       "      <td>...</td>\n",
       "      <td>...</td>\n",
       "      <td>...</td>\n",
       "      <td>...</td>\n",
       "      <td>...</td>\n",
       "    </tr>\n",
       "    <tr>\n",
       "      <th>17495</th>\n",
       "      <td>0</td>\n",
       "      <td>2</td>\n",
       "      <td>1</td>\n",
       "      <td>7</td>\n",
       "      <td>49</td>\n",
       "    </tr>\n",
       "    <tr>\n",
       "      <th>17496</th>\n",
       "      <td>0</td>\n",
       "      <td>2</td>\n",
       "      <td>0</td>\n",
       "      <td>7</td>\n",
       "      <td>0</td>\n",
       "    </tr>\n",
       "    <tr>\n",
       "      <th>17497</th>\n",
       "      <td>0</td>\n",
       "      <td>2</td>\n",
       "      <td>1</td>\n",
       "      <td>7</td>\n",
       "      <td>18</td>\n",
       "    </tr>\n",
       "    <tr>\n",
       "      <th>17498</th>\n",
       "      <td>0</td>\n",
       "      <td>2</td>\n",
       "      <td>0</td>\n",
       "      <td>4</td>\n",
       "      <td>28</td>\n",
       "    </tr>\n",
       "    <tr>\n",
       "      <th>17499</th>\n",
       "      <td>0</td>\n",
       "      <td>2</td>\n",
       "      <td>1</td>\n",
       "      <td>7</td>\n",
       "      <td>34</td>\n",
       "    </tr>\n",
       "  </tbody>\n",
       "</table>\n",
       "<p>17500 rows × 5 columns</p>\n",
       "</div>"
      ],
      "text/plain": [
       "       defendants_age  defendants_gender  num_victims  offence_category  \\\n",
       "0                  62                  0            1                 7   \n",
       "1                  17                  2            1                 7   \n",
       "2                   0                  2            1                 7   \n",
       "3                   0                  2            1                 7   \n",
       "4                  52                  2            1                 7   \n",
       "...               ...                ...          ...               ...   \n",
       "17495               0                  2            1                 7   \n",
       "17496               0                  2            0                 7   \n",
       "17497               0                  2            1                 7   \n",
       "17498               0                  2            0                 4   \n",
       "17499               0                  2            1                 7   \n",
       "\n",
       "       offence_sub_category  \n",
       "0                        49  \n",
       "1                        34  \n",
       "2                        34  \n",
       "3                        45  \n",
       "4                        34  \n",
       "...                     ...  \n",
       "17495                    49  \n",
       "17496                     0  \n",
       "17497                    18  \n",
       "17498                    28  \n",
       "17499                    34  \n",
       "\n",
       "[17500 rows x 5 columns]"
      ]
     },
     "execution_count": 19,
     "metadata": {},
     "output_type": "execute_result"
    }
   ],
   "source": [
    "df"
   ]
  },
  {
   "cell_type": "code",
   "execution_count": 20,
   "metadata": {},
   "outputs": [],
   "source": [
    "train_numpy = df.iloc[:,:].values"
   ]
  },
  {
   "cell_type": "code",
   "execution_count": 21,
   "metadata": {},
   "outputs": [],
   "source": [
    "train_label = df_glove_train.iloc[:,0].values"
   ]
  },
  {
   "cell_type": "code",
   "execution_count": 22,
   "metadata": {},
   "outputs": [],
   "source": [
    "sc = StandardScaler()"
   ]
  },
  {
   "cell_type": "code",
   "execution_count": 23,
   "metadata": {},
   "outputs": [],
   "source": [
    "X_train = sc.fit_transform(train_numpy)"
   ]
  },
  {
   "cell_type": "code",
   "execution_count": 24,
   "metadata": {},
   "outputs": [],
   "source": [
    "regressor = RandomForestClassifier(n_estimators=300,random_state=0,max_depth=7)"
   ]
  },
  {
   "cell_type": "code",
   "execution_count": 25,
   "metadata": {},
   "outputs": [
    {
     "data": {
      "text/plain": [
       "RandomForestClassifier(max_depth=7, n_estimators=300, random_state=0)"
      ]
     },
     "execution_count": 25,
     "metadata": {},
     "output_type": "execute_result"
    }
   ],
   "source": [
    "regressor.fit(X_train,train_label)"
   ]
  },
  {
   "cell_type": "code",
   "execution_count": 26,
   "metadata": {},
   "outputs": [
    {
     "data": {
      "text/plain": [
       "0.7935428571428571"
      ]
     },
     "execution_count": 26,
     "metadata": {},
     "output_type": "execute_result"
    }
   ],
   "source": [
    "y_pred = regressor.predict(X_train)\n",
    "accuracy_score(train_label,y_pred)"
   ]
  },
  {
   "cell_type": "code",
   "execution_count": 27,
   "metadata": {},
   "outputs": [],
   "source": [
    "##### for testing ######\n",
    "defendants_age = []\n",
    "defendant_gender=[]\n",
    "num_victims=[]\n",
    "offence_category=[]\n",
    "offence_subcategory=[]"
   ]
  },
  {
   "cell_type": "code",
   "execution_count": 28,
   "metadata": {},
   "outputs": [],
   "source": [
    "change_age(test)\n",
    "factorize_gender(test)\n",
    "factorize_offence_category(test)\n",
    "factorize_offence_subcategory(test)"
   ]
  },
  {
   "cell_type": "code",
   "execution_count": 29,
   "metadata": {},
   "outputs": [],
   "source": [
    "num_victims = list(test['num_victims'])"
   ]
  },
  {
   "cell_type": "code",
   "execution_count": 30,
   "metadata": {},
   "outputs": [],
   "source": [
    "df_test = pd.DataFrame(list(zip(defendants_age,defendant_gender,num_victims,offence_category,offence_subcategory)),  columns =[\"defendants_age\" ,\"defendants_gender\",\"num_victims\",\"offence_category\",\"offence_sub_category\"])\n"
   ]
  },
  {
   "cell_type": "code",
   "execution_count": 31,
   "metadata": {},
   "outputs": [],
   "source": [
    "test_numpy = df_test.iloc[:,:].values"
   ]
  },
  {
   "cell_type": "code",
   "execution_count": 32,
   "metadata": {},
   "outputs": [],
   "source": [
    "test_label = df_glove_test.iloc[:,0].values"
   ]
  },
  {
   "cell_type": "code",
   "execution_count": 33,
   "metadata": {},
   "outputs": [],
   "source": [
    "X_test = sc.fit_transform(test_numpy)"
   ]
  },
  {
   "cell_type": "code",
   "execution_count": 34,
   "metadata": {},
   "outputs": [
    {
     "data": {
      "text/plain": [
       "0.7964444444444444"
      ]
     },
     "execution_count": 34,
     "metadata": {},
     "output_type": "execute_result"
    }
   ],
   "source": [
    "y_pred_test = regressor.predict(X_test)\n",
    "accuracy_score(test_label,y_pred_test)"
   ]
  },
  {
   "cell_type": "code",
   "execution_count": 35,
   "metadata": {},
   "outputs": [],
   "source": [
    "###### for eval #######\n",
    "defendants_age = []\n",
    "defendant_gender=[]\n",
    "num_victims=[]\n",
    "offence_category=[]\n",
    "offence_subcategory=[]"
   ]
  },
  {
   "cell_type": "code",
   "execution_count": 36,
   "metadata": {},
   "outputs": [],
   "source": [
    "\n",
    "factorize_gender(eval)\n",
    "factorize_offence_category(eval)\n",
    "factorize_offence_subcategory(eval)\n",
    "num_victims = list(eval['num_victims'])"
   ]
  },
  {
   "cell_type": "code",
   "execution_count": 37,
   "metadata": {},
   "outputs": [],
   "source": [
    "for i,age in enumerate(eval['defendant_age']):\n",
    "#         print(\"age\",age)\n",
    "        # print(i)\n",
    "        age = age.strip(\"(  ) -\")\n",
    "        if age != \"not known\":\n",
    "            age = age.replace(\"years\",\"\")\n",
    "            age = age.replace(\"about\", \"\")\n",
    "            age = age.replace(\"age\",\"\")\n",
    "            age = age.replace(\"of\", \"\" )\n",
    "            age = age.replace(\"old\", \"\")\n",
    "            age = age.replace(\"Year\", \"\")\n",
    "            age = age.replace(\"his\", \"\")\n",
    "            age = age.replace(\"Age\", \"\")\n",
    "            age = age.strip()\n",
    "            age = age.strip(\"d\")\n",
    "            \n",
    "            if age.find(\" \") >= 0:\n",
    "                temp = age.split(\" \")\n",
    "                if \"and\" in temp or \"or\" in temp:\n",
    "                    age = temp[0]\n",
    "#                     temp.remove(\"and\")\n",
    "#                 if \"months\" in temp or \"month\" in temp:\n",
    "#                     temp.remove(\"months\")\n",
    "# #                     temp.remove(\"month\")\n",
    "                # print(temp)\n",
    "                else:\n",
    "                    age = '-'.join(temp)\n",
    "#             print(\"**\",age)\n",
    "            syns = wordnet.synsets(age.strip())\n",
    "#             print(\"syns\",syns)\n",
    "            # print(\"A\",age)\n",
    "            # print(\"S\",syns[0].lemmas()[0].name())\n",
    "            age = syns[0].lemmas()[0].name()\n",
    "            if age.find(\"-\") >= 0:\n",
    "                temp = age.split(\"-\")\n",
    "                # print(temp)\n",
    "                age = ' '.join(temp)\n",
    "#             print(age)\n",
    "#             defendants_age.append(w2n.word_to_num(age.strip()))\n",
    "            try:\n",
    "                defendants_age.append(w2n.word_to_num(age.strip()))\n",
    "            except:\n",
    "                defendants_age.append(int(0))\n",
    "        else:\n",
    "            defendants_age.append(int(0))"
   ]
  },
  {
   "cell_type": "code",
   "execution_count": 38,
   "metadata": {},
   "outputs": [],
   "source": [
    "df_eval = pd.DataFrame(list(zip(defendants_age,defendant_gender,num_victims,offence_category,offence_subcategory)),  columns =[\"defendants_age\" ,\"defendants_gender\",\"num_victims\",\"offence_category\",\"offence_sub_category\"])\n"
   ]
  },
  {
   "cell_type": "code",
   "execution_count": 39,
   "metadata": {},
   "outputs": [],
   "source": [
    "eval_numpy = df_eval.iloc[:,:].values"
   ]
  },
  {
   "cell_type": "code",
   "execution_count": 40,
   "metadata": {},
   "outputs": [],
   "source": [
    "eval_label = eval.iloc[:,0].values"
   ]
  },
  {
   "cell_type": "code",
   "execution_count": 41,
   "metadata": {},
   "outputs": [],
   "source": [
    "X_eval = sc.fit_transform(eval_numpy)"
   ]
  },
  {
   "cell_type": "code",
   "execution_count": 42,
   "metadata": {},
   "outputs": [],
   "source": [
    "y_pred_eval = regressor.predict(X_eval)"
   ]
  },
  {
   "cell_type": "code",
   "execution_count": 43,
   "metadata": {},
   "outputs": [
    {
     "data": {
      "text/plain": [
       "5250"
      ]
     },
     "execution_count": 43,
     "metadata": {},
     "output_type": "execute_result"
    }
   ],
   "source": [
    "len(offence_subcategory)"
   ]
  },
  {
   "cell_type": "code",
   "execution_count": 44,
   "metadata": {},
   "outputs": [],
   "source": [
    "import csv"
   ]
  },
  {
   "cell_type": "code",
   "execution_count": 45,
   "metadata": {},
   "outputs": [],
   "source": [
    "with open('random_forest_final.csv', 'w', newline='') as file:\n",
    "    writer = csv.writer(file)\n",
    "    writer.writerow([\"example_id\", \"label\"])\n",
    "    for i in range(len(y_pred_eval)):\n",
    "        if y_pred_eval[i]== -1:\n",
    "            val = 0\n",
    "        else:\n",
    "            val = 1\n",
    "        writer.writerow([i, val])"
   ]
  },
  {
   "cell_type": "code",
   "execution_count": null,
   "metadata": {},
   "outputs": [],
   "source": []
  },
  {
   "cell_type": "code",
   "execution_count": null,
   "metadata": {},
   "outputs": [],
   "source": []
  }
 ],
 "metadata": {
  "kernelspec": {
   "display_name": "Python 3",
   "language": "python",
   "name": "python3"
  },
  "language_info": {
   "codemirror_mode": {
    "name": "ipython",
    "version": 3
   },
   "file_extension": ".py",
   "mimetype": "text/x-python",
   "name": "python",
   "nbconvert_exporter": "python",
   "pygments_lexer": "ipython3",
   "version": "3.8.0"
  }
 },
 "nbformat": 4,
 "nbformat_minor": 4
}
